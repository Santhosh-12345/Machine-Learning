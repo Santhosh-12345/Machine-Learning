{
 "cells": [
  {
   "cell_type": "code",
   "execution_count": 7,
   "id": "e6832800",
   "metadata": {},
   "outputs": [
    {
     "name": "stdout",
     "output_type": "stream",
     "text": [
      "First Element: Arun\n",
      "Last Element: Raja\n",
      "Length of the List: 4\n"
     ]
    }
   ],
   "source": [
    "list=[\"Arun\",\"Kumar\",\"Ravi\",\"Raja\"]\n",
    "print(\"First Element: \"+list[0])\n",
    "print(\"Last Element: \"+list[-1])\n",
    "print(\"Length of the List: \"+ str(len(list)))"
   ]
  },
  {
   "cell_type": "code",
   "execution_count": 1,
   "id": "8459b662",
   "metadata": {},
   "outputs": [
    {
     "name": "stdout",
     "output_type": "stream",
     "text": [
      "Enter a number : 5897\n",
      "Number 9 is present\n",
      "Face value: 9 Place value: 10\n"
     ]
    }
   ],
   "source": [
    "num = int(input(\"Enter a number : \"))\n",
    "digit = 9\n",
    "present = False\n",
    "pos = 0\n",
    "\n",
    "while num > 0:\n",
    "    rem = num % 10\n",
    "    pos += 1\n",
    "    if rem == digit:\n",
    "        present = True\n",
    "        break\n",
    "    num //= 10\n",
    "\n",
    "if present:\n",
    "    print(\"Number 9 is present\")\n",
    "    print(\"Face value:\", digit, \"Place value:\", 10 ** (pos - 1))\n",
    "else:\n",
    "    print(\"Number 9 is not present\")\n"
   ]
  },
  {
   "cell_type": "code",
   "execution_count": 2,
   "id": "d2a49ed6",
   "metadata": {},
   "outputs": [
    {
     "name": "stdout",
     "output_type": "stream",
     "text": [
      "Enter first number:5\n",
      "Enter second number:10\n",
      "Addition: 15\n",
      "Subtraction: -5\n",
      "Multiplication: 50\n",
      "Division: 0.5\n",
      "Modulus: 5\n",
      "Power: 9765625\n",
      "Greater than: False\n",
      "Less than: True\n",
      "Equals: False\n",
      "Greater than equal: False\n",
      "Less than equal: True\n",
      "Logical And: 10\n",
      "Logical OR: 5\n",
      "Logical Not: False\n"
     ]
    }
   ],
   "source": [
    "a=int(input(\"Enter first number:\"))\n",
    "b=int(input(\"Enter second number:\"))\n",
    "print(\"Addition:\",a+b)\n",
    "print(\"Subtraction:\",a-b)\n",
    "print(\"Multiplication:\",a*b)\n",
    "print(\"Division:\",a/b)\n",
    "print(\"Modulus:\",a%b)\n",
    "print(\"Power:\",a**b)\n",
    "print(\"Greater than:\",a>b)\n",
    "print(\"Less than:\",a<b)\n",
    "print(\"Equals:\",a==b)\n",
    "print(\"Greater than equal:\",a>=b)\n",
    "print(\"Less than equal:\",a<=b)\n",
    "print(\"Logical And:\",a and b)\n",
    "print(\"Logical OR:\",a or b)\n",
    "print(\"Logical Not:\",not a)"
   ]
  },
  {
   "cell_type": "code",
   "execution_count": 1,
   "id": "ea7f9a4c",
   "metadata": {},
   "outputs": [
    {
     "name": "stdout",
     "output_type": "stream",
     "text": [
      "Enter the number of steps: 5\n",
      "Number of ways a robot can take steps to climb the stairs is: 8\n"
     ]
    }
   ],
   "source": [
    "def fact(num):\n",
    "    if num == 0 or num == 1:\n",
    "        return 1\n",
    "    else:\n",
    "        return fact(num - 1) + fact(num - 2)\n",
    "steps = int(input(\"Enter the number of steps: \"))\n",
    "ans = fact(steps)\n",
    "print(\"Number of ways a robot can take steps to climb the stairs is:\",ans)"
   ]
  },
  {
   "cell_type": "code",
   "execution_count": 2,
   "id": "65415104",
   "metadata": {},
   "outputs": [
    {
     "name": "stdout",
     "output_type": "stream",
     "text": [
      "Element at position 0 , 0 : 1\n",
      "Element at position 0 , 1 : 2\n",
      "Element at position 0 , 2 : 3\n",
      "Element at position 0 , 3 : 4\n",
      "Element at position 1 , 0 : 5\n",
      "Element at position 1 , 1 : 6\n",
      "Element at position 1 , 2 : 7\n",
      "Element at position 1 , 3 : 8\n",
      "Element at position 2 , 0 : 9\n",
      "Element at position 2 , 1 : 10\n",
      "Element at position 2 , 2 : 11\n",
      "Element at position 2 , 3 : 12\n"
     ]
    }
   ],
   "source": [
    "matrix = [\n",
    "    [1, 2, 3, 4],  \n",
    "    [5, 6, 7, 8],  \n",
    "    [9, 10, 11, 12]  \n",
    "]\n",
    "for i in range(len(matrix)):\n",
    "    for j in range(len(matrix[i])):\n",
    "        print(\"Element at position\",i,\",\",j,\":\", matrix[i][j])"
   ]
  },
  {
   "cell_type": "code",
   "execution_count": 3,
   "id": "9abe1d84",
   "metadata": {},
   "outputs": [
    {
     "name": "stdout",
     "output_type": "stream",
     "text": [
      "Enter the number of rows: 4\n",
      "******\n",
      " ****\n",
      "  **\n",
      "   *\n"
     ]
    }
   ],
   "source": [
    "def star_pattern(num):\n",
    "    for i in range(num, 0, -1):\n",
    "        for j in range(num - i):\n",
    "            print(\" \", end=\"\")\n",
    "        if i == 1:\n",
    "            print(\"*\")\n",
    "            break  \n",
    "        else:\n",
    "            print(\"*\" *(2*i-2), end=\"\")\n",
    "        print()\n",
    "num = int(input(\"Enter the number of rows: \"))\n",
    "star_pattern(num) \n"
   ]
  },
  {
   "cell_type": "code",
   "execution_count": 4,
   "id": "7aa35a06",
   "metadata": {},
   "outputs": [
    {
     "name": "stdout",
     "output_type": "stream",
     "text": [
      "Enter the number of rows: 4\n",
      " ** \n",
      "******\n",
      " ** \n",
      "******\n"
     ]
    }
   ],
   "source": [
    "def star_pattern(num):\n",
    "    for i in range(1, num + 1):\n",
    "        if i % 2 != 0:\n",
    "            print(\" ** \")\n",
    "        else:\n",
    "            print(\"******\")\n",
    "num = int(input(\"Enter the number of rows: \"))\n",
    "star_pattern(num)"
   ]
  },
  {
   "cell_type": "code",
   "execution_count": 1,
   "id": "a1ecb671",
   "metadata": {},
   "outputs": [
    {
     "name": "stdout",
     "output_type": "stream",
     "text": [
      "<class 'list'>\n",
      "<class 'tuple'>\n",
      "<class 'dict'>\n"
     ]
    }
   ],
   "source": [
    "my_list=[1,2,3]\n",
    "my_tuple=(4,5,6)\n",
    "my_dict={\"Name\":\"Santhosh\",\n",
    "        \"Reg_No\":2022503042}\n",
    "print(type(my_list))\n",
    "print(type(my_tuple))\n",
    "print(type(my_dict))"
   ]
  },
  {
   "cell_type": "code",
   "execution_count": null,
   "id": "430ceccb",
   "metadata": {},
   "outputs": [],
   "source": []
  }
 ],
 "metadata": {
  "kernelspec": {
   "display_name": "Python 3 (ipykernel)",
   "language": "python",
   "name": "python3"
  },
  "language_info": {
   "codemirror_mode": {
    "name": "ipython",
    "version": 3
   },
   "file_extension": ".py",
   "mimetype": "text/x-python",
   "name": "python",
   "nbconvert_exporter": "python",
   "pygments_lexer": "ipython3",
   "version": "3.11.5"
  }
 },
 "nbformat": 4,
 "nbformat_minor": 5
}
