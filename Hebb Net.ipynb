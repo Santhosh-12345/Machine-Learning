{
 "cells": [
  {
   "cell_type": "code",
   "execution_count": 3,
   "id": "f97fd461-71bf-40b8-8ab0-414973e566f6",
   "metadata": {},
   "outputs": [
    {
     "name": "stdin",
     "output_type": "stream",
     "text": [
      "Enter value 1 for x1:  0\n",
      "Enter value 1 for x2:  0\n",
      "Enter value 1 for y:   0\n",
      "Enter value 2 for x1:  0\n",
      "Enter value 2 for x2:  1\n",
      "Enter value 2 for y:   0\n",
      "Enter value 3 for x1:  1\n",
      "Enter value 3 for x2:  0\n",
      "Enter value 3 for y:   0\n",
      "Enter value 4 for x1:  1\n",
      "Enter value 4 for x2:  1\n",
      "Enter value 4 for y:   1\n"
     ]
    },
    {
     "name": "stdout",
     "output_type": "stream",
     "text": [
      "\n",
      "Final Weights:\n",
      "w1: 2, w2: 2, wb: -2\n",
      "\n",
      "Output values (y_pred): [0, 0, 0, 1]\n"
     ]
    }
   ],
   "source": [
    "import numpy as np\n",
    "x1, x2, y = [], [], []\n",
    "for i in range(4):\n",
    "    t1 = int(input(f\"Enter value {i+1} for x1: \"))\n",
    "    t2 = int(input(f\"Enter value {i+1} for x2: \"))\n",
    "    t3 = int(input(f\"Enter value {i+1} for y:  \"))\n",
    "    x1.append(-1 if t1 == 0 else t1)\n",
    "    x2.append(-1 if t2 == 0 else t2)\n",
    "    y.append(-1 if t3 == 0 else t3)\n",
    "x1, x2, y = np.array(x1), np.array(x2), np.array(y)\n",
    "w1, w2, wb = [0], [0], [0]\n",
    "xb = 1  \n",
    "while True:\n",
    "    y_pred = []\n",
    "    for i in range(4):\n",
    "        net_input = x1[i] * w1[-1] + x2[i] * w2[-1] + xb * wb[-1]\n",
    "        y_pred.append(1 if net_input > 0 else 0)\n",
    "    y_binary = np.where(y == -1, 0, 1)\n",
    "    if np.array_equal(y_pred, y_binary):\n",
    "        break\n",
    "    for i in range(4):\n",
    "        w1.append(w1[-1] + x1[i] * y[i])\n",
    "        w2.append(w2[-1] + x2[i] * y[i])\n",
    "        wb.append(wb[-1] + xb * y[i])\n",
    "\n",
    "# Print final weights and predictions\n",
    "print(\"\\nFinal Weights:\")\n",
    "print(f\"w1: {w1[-1]}, w2: {w2[-1]}, wb: {wb[-1]}\")\n",
    "print(\"\\nOutput values (y_pred):\", y_pred)\n"
   ]
  },
  {
   "cell_type": "code",
   "execution_count": 5,
   "id": "7600b5f5-185d-4bd6-be89-e199fd5ab727",
   "metadata": {},
   "outputs": [
    {
     "name": "stdin",
     "output_type": "stream",
     "text": [
      "Enter value 1 for x1:  0\n",
      "Enter value 1 for x2:  0\n",
      "Enter value 1 for y:   0\n",
      "Enter value 2 for x1:  0\n",
      "Enter value 2 for x2:  1\n",
      "Enter value 2 for y:   1\n",
      "Enter value 3 for x1:  1\n",
      "Enter value 3 for x2:  0\n",
      "Enter value 3 for y:   1\n",
      "Enter value 4 for x1:  1\n",
      "Enter value 4 for x2:  1\n",
      "Enter value 4 for y:   1\n"
     ]
    },
    {
     "name": "stdout",
     "output_type": "stream",
     "text": [
      "\n",
      "Final Weights:\n",
      "w1: 2, w2: 2, wb: 2\n",
      "\n",
      "Output values (y_pred): [0, 1, 1, 1]\n"
     ]
    }
   ],
   "source": [
    "import numpy as np\n",
    "x1, x2, y = [], [], []\n",
    "for i in range(4):\n",
    "    t1 = int(input(f\"Enter value {i+1} for x1: \"))\n",
    "    t2 = int(input(f\"Enter value {i+1} for x2: \"))\n",
    "    t3 = int(input(f\"Enter value {i+1} for y:  \"))\n",
    "    x1.append(-1 if t1 == 0 else t1)\n",
    "    x2.append(-1 if t2 == 0 else t2)\n",
    "    y.append(-1 if t3 == 0 else t3)\n",
    "x1, x2, y = np.array(x1), np.array(x2), np.array(y)\n",
    "w1, w2, wb = [0], [0], [0]\n",
    "xb = 1  \n",
    "while True:\n",
    "    y_pred = []\n",
    "    for i in range(4):\n",
    "        net_input = x1[i] * w1[-1] + x2[i] * w2[-1] + xb * wb[-1]\n",
    "        y_pred.append(1 if net_input > 0 else 0)\n",
    "    y_binary = np.where(y == -1, 0, 1)\n",
    "    if np.array_equal(y_pred, y_binary):\n",
    "        break\n",
    "    for i in range(4):\n",
    "        w1.append(w1[-1] + x1[i] * y[i])\n",
    "        w2.append(w2[-1] + x2[i] * y[i])\n",
    "        wb.append(wb[-1] + xb * y[i])\n",
    "\n",
    "# Print final weights and predictions\n",
    "print(\"\\nFinal Weights:\")\n",
    "print(f\"w1: {w1[-1]}, w2: {w2[-1]}, wb: {wb[-1]}\")\n",
    "print(\"\\nOutput values (y_pred):\", y_pred)\n"
   ]
  },
  {
   "cell_type": "code",
   "execution_count": null,
   "id": "9cf48206-c916-4c9f-bf24-7192a4480403",
   "metadata": {},
   "outputs": [],
   "source": []
  }
 ],
 "metadata": {
  "kernelspec": {
   "display_name": "Python [conda env:base] *",
   "language": "python",
   "name": "conda-base-py"
  },
  "language_info": {
   "codemirror_mode": {
    "name": "ipython",
    "version": 3
   },
   "file_extension": ".py",
   "mimetype": "text/x-python",
   "name": "python",
   "nbconvert_exporter": "python",
   "pygments_lexer": "ipython3",
   "version": "3.12.7"
  }
 },
 "nbformat": 4,
 "nbformat_minor": 5
}
