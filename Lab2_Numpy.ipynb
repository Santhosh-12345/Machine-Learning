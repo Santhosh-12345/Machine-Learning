{
 "cells": [
  {
   "cell_type": "code",
   "execution_count": 2,
   "id": "f7cfb594",
   "metadata": {},
   "outputs": [
    {
     "name": "stdout",
     "output_type": "stream",
     "text": [
      "Array Elements:\n",
      " [[1 2 3]\n",
      " [4 5 6]\n",
      " [7 8 9]]\n"
     ]
    }
   ],
   "source": [
    "import numpy as np\n",
    "arr1=np.array([[1,2,3],\n",
    "              [4,5,6],\n",
    "              [7,8,9]])\n",
    "print(\"Array Elements:\\n\",arr1)"
   ]
  },
  {
   "cell_type": "code",
   "execution_count": 3,
   "id": "61ee258c",
   "metadata": {},
   "outputs": [
    {
     "name": "stdout",
     "output_type": "stream",
     "text": [
      "Dimensions of array: 2\n"
     ]
    }
   ],
   "source": [
    "print(\"Dimensions of array:\",arr1.ndim)"
   ]
  },
  {
   "cell_type": "code",
   "execution_count": 5,
   "id": "22dab8bb",
   "metadata": {},
   "outputs": [
    {
     "name": "stdout",
     "output_type": "stream",
     "text": [
      "1D arrays with zeros:\n",
      " [0. 0. 0.]\n",
      "2D arrays with zeros:\n",
      " [[0. 0. 0. 0.]\n",
      " [0. 0. 0. 0.]\n",
      " [0. 0. 0. 0.]\n",
      " [0. 0. 0. 0.]]\n"
     ]
    }
   ],
   "source": [
    "arr2=np.zeros(3)\n",
    "arr3=np.zeros((4,4))\n",
    "print(\"1D arrays with zeros:\\n\",arr2)\n",
    "print(\"2D arrays with zeros:\\n\",arr3)"
   ]
  },
  {
   "cell_type": "code",
   "execution_count": 7,
   "id": "3f33c2b0",
   "metadata": {},
   "outputs": [
    {
     "name": "stdout",
     "output_type": "stream",
     "text": [
      "2D identity array:\n",
      " [[1. 0. 0. 0. 0.]\n",
      " [0. 1. 0. 0. 0.]\n",
      " [0. 0. 1. 0. 0.]\n",
      " [0. 0. 0. 1. 0.]\n",
      " [0. 0. 0. 0. 1.]]\n"
     ]
    }
   ],
   "source": [
    "arr4=np.identity(5)\n",
    "print(\"2D identity array:\\n\",arr4)"
   ]
  },
  {
   "cell_type": "code",
   "execution_count": 8,
   "id": "21159319",
   "metadata": {},
   "outputs": [
    {
     "name": "stdout",
     "output_type": "stream",
     "text": [
      "Element in second row,first column: 4\n"
     ]
    }
   ],
   "source": [
    "print(\"Element in second row,first column:\",arr1[1,0])"
   ]
  },
  {
   "cell_type": "code",
   "execution_count": 9,
   "id": "eb7a0eaf",
   "metadata": {},
   "outputs": [
    {
     "name": "stdout",
     "output_type": "stream",
     "text": [
      "All values in second row: [4 5 6]\n"
     ]
    }
   ],
   "source": [
    "print(\"All values in second row:\",arr1[1,:])"
   ]
  },
  {
   "cell_type": "code",
   "execution_count": 10,
   "id": "65c936ff",
   "metadata": {},
   "outputs": [
    {
     "name": "stdout",
     "output_type": "stream",
     "text": [
      "All values from second column:\n",
      " [2 5 8]\n"
     ]
    }
   ],
   "source": [
    "print(\"All values from second column:\\n\", arr1[:, 1])"
   ]
  },
  {
   "cell_type": "code",
   "execution_count": 11,
   "id": "b5b4564a",
   "metadata": {},
   "outputs": [
    {
     "name": "stdout",
     "output_type": "stream",
     "text": [
      "Last column values:\n",
      " [3 6 9]\n"
     ]
    }
   ],
   "source": [
    "print(\"Last column values:\\n\", arr1[:, -1])"
   ]
  },
  {
   "cell_type": "code",
   "execution_count": 12,
   "id": "dd6116bd",
   "metadata": {},
   "outputs": [
    {
     "name": "stdout",
     "output_type": "stream",
     "text": [
      "Values from second and third row:\n",
      " [[4 5 6]\n",
      " [7 8 9]]\n"
     ]
    }
   ],
   "source": [
    "print(\"Values from second and third row:\\n\", arr1[1:3, :])"
   ]
  },
  {
   "cell_type": "code",
   "execution_count": 13,
   "id": "fc87ac9e",
   "metadata": {},
   "outputs": [
    {
     "name": "stdout",
     "output_type": "stream",
     "text": [
      "Array in the given range:\n",
      " [1 2 3 4]\n"
     ]
    }
   ],
   "source": [
    "arr5=np.arange(1,5,1)\n",
    "print(\"Array in the given range:\\n\",arr5)"
   ]
  },
  {
   "cell_type": "code",
   "execution_count": 14,
   "id": "92e4ab5b",
   "metadata": {},
   "outputs": [
    {
     "name": "stdout",
     "output_type": "stream",
     "text": [
      "Transposed Matrix:\n",
      " [[1 4 7]\n",
      " [2 5 8]\n",
      " [3 6 9]]\n"
     ]
    }
   ],
   "source": [
    "transpose=arr1.T\n",
    "print(\"Transposed Matrix:\\n\",transpose)"
   ]
  },
  {
   "cell_type": "code",
   "execution_count": 16,
   "id": "764e392b",
   "metadata": {},
   "outputs": [
    {
     "name": "stdout",
     "output_type": "stream",
     "text": [
      "Determinant of the matrix:\n",
      " 1.9999999999999998\n"
     ]
    }
   ],
   "source": [
    "arr6=[[1,2],[3,8]]\n",
    "print(\"Determinant of the matrix:\\n\",np.linalg.det(arr6))"
   ]
  },
  {
   "cell_type": "code",
   "execution_count": 17,
   "id": "4938f71d",
   "metadata": {},
   "outputs": [
    {
     "name": "stdout",
     "output_type": "stream",
     "text": [
      "Diagonal elements:\n",
      " [1 5 9]\n"
     ]
    }
   ],
   "source": [
    "print(\"Diagonal elements:\\n\", np.diag(arr1))"
   ]
  },
  {
   "cell_type": "code",
   "execution_count": 18,
   "id": "e2127420",
   "metadata": {},
   "outputs": [
    {
     "name": "stdout",
     "output_type": "stream",
     "text": [
      "Addition:\n",
      " [[ 9  9]\n",
      " [ 9 13]]\n",
      "Subtraction:\n",
      " [[-7 -5]\n",
      " [-3 -5]]\n",
      "Multiplication:\n",
      " [[20 25]\n",
      " [48 57]]\n"
     ]
    }
   ],
   "source": [
    "x1 = np.array([[1, 2], [3, 4]])\n",
    "x2 = np.array([[8, 7], [6,9]])\n",
    "print(\"Addition:\\n\",x1+x2)\n",
    "print(\"Subtraction:\\n\",x1-x2)\n",
    "print(\"Multiplication:\\n\",np.dot(x1,x2))"
   ]
  },
  {
   "cell_type": "code",
   "execution_count": 19,
   "id": "d4c8c177",
   "metadata": {},
   "outputs": [
    {
     "name": "stdout",
     "output_type": "stream",
     "text": [
      "Random numbered Array:\n",
      " [[17 18  2 11  5]\n",
      " [19 17  4 12 17]\n",
      " [ 5 18  4 19  1]]\n"
     ]
    }
   ],
   "source": [
    "arr7=np.random.randint(1,20,(3,5))\n",
    "print(\"Random numbered Array:\\n\",arr7)"
   ]
  },
  {
   "cell_type": "code",
   "execution_count": 22,
   "id": "20a5f7f4",
   "metadata": {
    "scrolled": true
   },
   "outputs": [
    {
     "name": "stdout",
     "output_type": "stream",
     "text": [
      "Equal step size:\n",
      " [ 1.    3.25  5.5   7.75 10.  ]\n"
     ]
    }
   ],
   "source": [
    "arr8=np.linspace(1,10,5)\n",
    "print(\"Equal step size:\\n\",arr8)"
   ]
  },
  {
   "cell_type": "code",
   "execution_count": null,
   "id": "0f8dfdd8",
   "metadata": {},
   "outputs": [],
   "source": []
  }
 ],
 "metadata": {
  "kernelspec": {
   "display_name": "Python 3 (ipykernel)",
   "language": "python",
   "name": "python3"
  },
  "language_info": {
   "codemirror_mode": {
    "name": "ipython",
    "version": 3
   },
   "file_extension": ".py",
   "mimetype": "text/x-python",
   "name": "python",
   "nbconvert_exporter": "python",
   "pygments_lexer": "ipython3",
   "version": "3.11.5"
  }
 },
 "nbformat": 4,
 "nbformat_minor": 5
}
