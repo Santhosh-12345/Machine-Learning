{
 "cells": [
  {
   "cell_type": "code",
   "execution_count": 1,
   "id": "139710c1-1b99-4a57-9b1d-74d6a17a1a04",
   "metadata": {},
   "outputs": [
    {
     "name": "stdin",
     "output_type": "stream",
     "text": [
      "Enter gate type (AND/OR):  AND\n",
      "Enter number of epochs:  1\n",
      "Enter initial bias weight:  0\n",
      "Enter initial weight for x1:  0\n",
      "Enter initial weight for x2:  0\n"
     ]
    },
    {
     "name": "stdout",
     "output_type": "stream",
     "text": [
      "\n",
      "\n",
      "Updated weights after input 1:\n",
      "Weight x1: 0.0\n",
      "Weight x2: 0.0\n",
      "Bias weight: 0.0\n",
      "\n",
      "\n",
      "Updated weights after input 2:\n",
      "Weight x1: 0.0\n",
      "Weight x2: 0.0\n",
      "Bias weight: 0.0\n",
      "\n",
      "\n",
      "Updated weights after input 3:\n",
      "Weight x1: 0.0\n",
      "Weight x2: 0.0\n",
      "Bias weight: 0.0\n",
      "\n",
      "\n",
      "Updated weights after input 4:\n",
      "Weight x1: 0.5\n",
      "Weight x2: 0.5\n",
      "Bias weight: 0.5\n",
      "\n",
      "\n",
      "Final weights for AND gate:\n",
      "x1: 0.5\n",
      "x2: 0.5\n",
      "Bias: 0.5\n"
     ]
    }
   ],
   "source": [
    "import numpy as np\n",
    "gate = input(\"Enter gate type (AND/OR): \").strip().upper()\n",
    "inputs = np.array([[0, 0], [0, 1], [1, 0], [1, 1]])\n",
    "if gate == \"AND\":\n",
    "    y = np.array([0, 0, 0, 1])\n",
    "elif gate == \"OR\":\n",
    "    y = np.array([0, 1, 1, 1])\n",
    "else:\n",
    "    print(\"Invalid gate type. Please enter AND or OR.\")\n",
    "    exit()\n",
    "epochs = int(input(\"Enter number of epochs: \"))\n",
    "bias_weight = float(input(\"Enter initial bias weight: \"))\n",
    "weight_x1 = float(input(\"Enter initial weight for x1: \"))\n",
    "weight_x2 = float(input(\"Enter initial weight for x2: \"))\n",
    "weights = np.array([bias_weight, weight_x1, weight_x2])\n",
    "bias = 1\n",
    "learning_rate = 0.5\n",
    "for epoch in range(epochs):\n",
    "    for i in range(len(inputs)):\n",
    "        output = inputs[i][0] * weights[1] + inputs[i][1] * weights[2] + bias * weights[0]\n",
    "        prediction = int(output > 0)\n",
    "        error = y[i] - prediction\n",
    "        if error != 0:\n",
    "            weights[1] += learning_rate * error * inputs[i][0]\n",
    "            weights[2] += learning_rate * error * inputs[i][1]\n",
    "            weights[0] += learning_rate * error * bias\n",
    "        print(\"\\n\")\n",
    "        print(f\"Updated weights after input {i+1}:\")\n",
    "        print(f\"Weight x1: {weights[1]}\\nWeight x2: {weights[2]}\\nBias weight: {weights[0]}\")\n",
    "print(\"\\n\")\n",
    "print(f\"Final weights for {gate} gate:\")\n",
    "print(f\"x1: {weights[1]}\\nx2: {weights[2]}\\nBias: {weights[0]}\")\n"
   ]
  },
  {
   "cell_type": "code",
   "execution_count": 3,
   "id": "664b1817-f1b6-428d-96cc-4fbec1b67ba1",
   "metadata": {},
   "outputs": [
    {
     "name": "stdin",
     "output_type": "stream",
     "text": [
      "Enter gate type (AND/OR):  OR\n",
      "Enter number of epochs:  1\n",
      "Enter initial bias weight:  0\n",
      "Enter initial weight for x1:  0\n",
      "Enter initial weight for x2:  0\n"
     ]
    },
    {
     "name": "stdout",
     "output_type": "stream",
     "text": [
      "\n",
      "\n",
      "Updated weights after input 1:\n",
      "Weight x1: 0.0\n",
      "Weight x2: 0.0\n",
      "Bias weight: 0.0\n",
      "\n",
      "\n",
      "Updated weights after input 2:\n",
      "Weight x1: 0.0\n",
      "Weight x2: 0.5\n",
      "Bias weight: 0.5\n",
      "\n",
      "\n",
      "Updated weights after input 3:\n",
      "Weight x1: 0.0\n",
      "Weight x2: 0.5\n",
      "Bias weight: 0.5\n",
      "\n",
      "\n",
      "Updated weights after input 4:\n",
      "Weight x1: 0.0\n",
      "Weight x2: 0.5\n",
      "Bias weight: 0.5\n",
      "\n",
      "\n",
      "Final weights for OR gate:\n",
      "x1: 0.0\n",
      "x2: 0.5\n",
      "Bias: 0.5\n"
     ]
    }
   ],
   "source": [
    "import numpy as np\n",
    "gate = input(\"Enter gate type (AND/OR): \").strip().upper()\n",
    "inputs = np.array([[0, 0], [0, 1], [1, 0], [1, 1]])\n",
    "if gate == \"AND\":\n",
    "    y = np.array([0, 0, 0, 1])\n",
    "elif gate == \"OR\":\n",
    "    y = np.array([0, 1, 1, 1])\n",
    "else:\n",
    "    print(\"Invalid gate type. Please enter AND or OR.\")\n",
    "    exit()\n",
    "\n",
    "epochs = int(input(\"Enter number of epochs: \"))\n",
    "bias_weight = float(input(\"Enter initial bias weight: \"))\n",
    "weight_x1 = float(input(\"Enter initial weight for x1: \"))\n",
    "weight_x2 = float(input(\"Enter initial weight for x2: \"))\n",
    "\n",
    "weights = np.array([bias_weight, weight_x1, weight_x2])\n",
    "bias = 1\n",
    "learning_rate = 0.5\n",
    "\n",
    "for epoch in range(epochs):\n",
    "    for i in range(len(inputs)):\n",
    "        output = inputs[i][0] * weights[1] + inputs[i][1] * weights[2] + bias * weights[0]\n",
    "        prediction = int(output > 0)\n",
    "        error = y[i] - prediction\n",
    "       \n",
    "        if error != 0:\n",
    "            weights[1] += learning_rate * error * inputs[i][0]\n",
    "            weights[2] += learning_rate * error * inputs[i][1]\n",
    "            weights[0] += learning_rate * error * bias\n",
    "        print(\"\\n\")\n",
    "        print(f\"Updated weights after input {i+1}:\")\n",
    "        print(f\"Weight x1: {weights[1]}\\nWeight x2: {weights[2]}\\nBias weight: {weights[0]}\")\n",
    "print(\"\\n\")\n",
    "print(f\"Final weights for {gate} gate:\")\n",
    "print(f\"x1: {weights[1]}\\nx2: {weights[2]}\\nBias: {weights[0]}\")\n"
   ]
  },
  {
   "cell_type": "code",
   "execution_count": null,
   "id": "f51b283c-32ba-4e5d-afdb-b20ff421d7c0",
   "metadata": {},
   "outputs": [],
   "source": []
  }
 ],
 "metadata": {
  "kernelspec": {
   "display_name": "Python [conda env:base] *",
   "language": "python",
   "name": "conda-base-py"
  },
  "language_info": {
   "codemirror_mode": {
    "name": "ipython",
    "version": 3
   },
   "file_extension": ".py",
   "mimetype": "text/x-python",
   "name": "python",
   "nbconvert_exporter": "python",
   "pygments_lexer": "ipython3",
   "version": "3.12.7"
  }
 },
 "nbformat": 4,
 "nbformat_minor": 5
}
