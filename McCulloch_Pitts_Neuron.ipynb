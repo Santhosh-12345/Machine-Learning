{
 "cells": [
  {
   "cell_type": "code",
   "execution_count": 25,
   "id": "ea3aea11-82e9-4315-9232-8e8d248df1b3",
   "metadata": {},
   "outputs": [],
   "source": [
    "import numpy as np\n",
    "inputs = np.array([[0, 0], [0, 1], [1, 0], [1, 1]])"
   ]
  },
  {
   "cell_type": "code",
   "execution_count": 27,
   "id": "9ffeb777-9e95-47fd-967c-a4eae1d4306e",
   "metadata": {},
   "outputs": [
    {
     "name": "stdin",
     "output_type": "stream",
     "text": [
      "Enter the threshold value: 2\n"
     ]
    },
    {
     "name": "stdout",
     "output_type": "stream",
     "text": [
      "AND Gate using McCulloch-Pitts Neuron:\n",
      "Input: [0 0] -> Output: 0\n",
      "Input: [0 1] -> Output: 0\n",
      "Input: [1 0] -> Output: 0\n",
      "Input: [1 1] -> Output: 1\n"
     ]
    }
   ],
   "source": [
    "weights = np.array([1, 1])\n",
    "theta = int(input(\"Enter the threshold value:\"))\n",
    "outputs = []\n",
    "for i in range(len(inputs)):\n",
    "    weighted_sum = np.dot(inputs[i], weights)  \n",
    "    if weighted_sum < theta:\n",
    "        outputs.append(0)\n",
    "    else:\n",
    "        outputs.append(1)\n",
    "print(\"AND Gate using McCulloch-Pitts Neuron:\")\n",
    "for i in range(len(inputs)):\n",
    "    print(f\"Input: {inputs[i]} -> Output: {outputs[i]}\")\n"
   ]
  },
  {
   "cell_type": "code",
   "execution_count": 29,
   "id": "b85bacfe-8562-4784-a889-79e036c3688d",
   "metadata": {},
   "outputs": [
    {
     "name": "stdin",
     "output_type": "stream",
     "text": [
      "Enter the threshold value: 1\n"
     ]
    },
    {
     "name": "stdout",
     "output_type": "stream",
     "text": [
      "OR Gate using McCulloch-Pitts Neuron:\n",
      "Input: [0 0] -> Output: 0\n",
      "Input: [0 1] -> Output: 1\n",
      "Input: [1 0] -> Output: 1\n",
      "Input: [1 1] -> Output: 1\n"
     ]
    }
   ],
   "source": [
    "weight=np.array([1,1])\n",
    "theta = int(input(\"Enter the threshold value:\"))\n",
    "outputs = []\n",
    "for i in range(len(inputs)):\n",
    "    weighted_sum = np.dot(inputs[i], weights)\n",
    "    if weighted_sum < theta:\n",
    "        outputs.append(0)\n",
    "    else:\n",
    "        outputs.append(1)\n",
    "print(\"OR Gate using McCulloch-Pitts Neuron:\")\n",
    "for i in range(len(inputs)):\n",
    "    print(f\"Input: {inputs[i]} -> Output: {outputs[i]}\")\n"
   ]
  },
  {
   "cell_type": "code",
   "execution_count": 31,
   "id": "1c31c9fb-0ee5-44e5-95f8-c2f81696043f",
   "metadata": {},
   "outputs": [
    {
     "name": "stdin",
     "output_type": "stream",
     "text": [
      "Enter the threshold value: -1\n"
     ]
    },
    {
     "name": "stdout",
     "output_type": "stream",
     "text": [
      "NAND Gate using McCulloch-Pitts Neuron:\n",
      "Input: [0 0] -> Output: 1\n",
      "Input: [0 1] -> Output: 1\n",
      "Input: [1 0] -> Output: 1\n",
      "Input: [1 1] -> Output: 0\n"
     ]
    }
   ],
   "source": [
    "weights = np.array([-1, -1])\n",
    "theta = int(input(\"Enter the threshold value:\"))\n",
    "outputs = []\n",
    "for i in range(len(inputs)):\n",
    "    weighted_sum = np.dot(inputs[i], weights)\n",
    "    if weighted_sum < theta:\n",
    "        outputs.append(0)\n",
    "    else:\n",
    "        outputs.append(1)\n",
    "print(\"NAND Gate using McCulloch-Pitts Neuron:\")\n",
    "for i in range(len(inputs)):\n",
    "    print(f\"Input: {inputs[i]} -> Output: {outputs[i]}\")\n"
   ]
  },
  {
   "cell_type": "code",
   "execution_count": 33,
   "id": "3cf62ab6-0aed-4dd3-9f48-54d8d82182b2",
   "metadata": {},
   "outputs": [
    {
     "name": "stdin",
     "output_type": "stream",
     "text": [
      "Enter the threshold value: 0\n"
     ]
    },
    {
     "name": "stdout",
     "output_type": "stream",
     "text": [
      "NOR Gate using McCulloch-Pitts Neuron:\n",
      "Input: [0 0] -> Output: 1\n",
      "Input: [0 1] -> Output: 0\n",
      "Input: [1 0] -> Output: 0\n",
      "Input: [1 1] -> Output: 0\n"
     ]
    }
   ],
   "source": [
    "weights = np.array([-1, -1])\n",
    "theta = int(input(\"Enter the threshold value:\"))\n",
    "outputs = []\n",
    "for i in range(len(inputs)):\n",
    "    weighted_sum = np.dot(inputs[i], weights)\n",
    "    if weighted_sum < theta:\n",
    "        outputs.append(0)\n",
    "    else:\n",
    "        outputs.append(1)\n",
    "print(\"NOR Gate using McCulloch-Pitts Neuron:\")\n",
    "for i in range(len(inputs)):\n",
    "    print(f\"Input: {inputs[i]} -> Output: {outputs[i]}\")\n"
   ]
  },
  {
   "cell_type": "code",
   "execution_count": null,
   "id": "e001ee69-cbd6-4ffe-ab6f-0156946130bb",
   "metadata": {},
   "outputs": [],
   "source": []
  }
 ],
 "metadata": {
  "kernelspec": {
   "display_name": "Python [conda env:base] *",
   "language": "python",
   "name": "conda-base-py"
  },
  "language_info": {
   "codemirror_mode": {
    "name": "ipython",
    "version": 3
   },
   "file_extension": ".py",
   "mimetype": "text/x-python",
   "name": "python",
   "nbconvert_exporter": "python",
   "pygments_lexer": "ipython3",
   "version": "3.12.7"
  }
 },
 "nbformat": 4,
 "nbformat_minor": 5
}
