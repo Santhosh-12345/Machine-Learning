{
 "cells": [
  {
   "cell_type": "code",
   "execution_count": 3,
   "id": "cd6266aa",
   "metadata": {},
   "outputs": [
    {
     "name": "stdout",
     "output_type": "stream",
     "text": [
      "Actual Output: [0 0 1 1 1 0 1 0 1 1 1 1 1 0]\n",
      "Predicted Output: [0 0 1 1 1 1 1 0 1 1 1 1 1 0]\n",
      "\n",
      "Confusion Matrix:\n",
      " [[4 1]\n",
      " [0 9]]\n",
      "\n",
      "Classification Report:\n",
      "               precision    recall  f1-score   support\n",
      "\n",
      "           0       1.00      0.80      0.89         5\n",
      "           1       0.90      1.00      0.95         9\n",
      "\n",
      "    accuracy                           0.93        14\n",
      "   macro avg       0.95      0.90      0.92        14\n",
      "weighted avg       0.94      0.93      0.93        14\n",
      "\n"
     ]
    }
   ],
   "source": [
    "import pandas as pd\n",
    "from sklearn.preprocessing import LabelEncoder, StandardScaler\n",
    "from sklearn.model_selection import train_test_split\n",
    "from sklearn.metrics import confusion_matrix,classification_report\n",
    "from sklearn.naive_bayes import CategoricalNB\n",
    "df=pd.read_excel('training_data.xlsx')\n",
    "le=LabelEncoder()\n",
    "for i in df.columns:\n",
    "    if(df[i].dtype=='object'):\n",
    "        df[i]=le.fit_transform(df[i].astype(str))\n",
    "x=df.values[:,:-1]\n",
    "y=df.values[:,-1]\n",
    "model=CategoricalNB()\n",
    "model.fit(x,y)\n",
    "y_pred=model.predict(x)\n",
    "print(\"Actual Output:\",y)\n",
    "print(\"Predicted Output:\",y_pred)\n",
    "print(\"\\nConfusion Matrix:\\n\",confusion_matrix(y,y_pred))\n",
    "print(\"\\nClassification Report:\\n\",classification_report(y,y_pred))"
   ]
  },
  {
   "cell_type": "code",
   "execution_count": 1,
   "id": "9d20bb8d-13c5-428d-be5a-21ddfdf1b3d7",
   "metadata": {},
   "outputs": [
    {
     "name": "stdout",
     "output_type": "stream",
     "text": [
      "Actual Output: [0 0 0 0 0 1 1 1 0 0 1 1 0 0 0 0 0 0 0 0 1 0 1 1 1 1 1 1 0 1 0 0 0 0 1 1 0\n",
      " 1 0 0 0 0 0 0 0 0 1 1 1 1 1 0 0 0 1 1 1 1 1 1 1 0 0 0 1 1 1 1 0 1 1 1 0 1\n",
      " 1 1 1 1 1 1 1 1 1 1 1 1 1 1 1 1 0 0 0 0 0 0 1 0 0 0 0 0 0 0 0 0 0 0 1 1 1\n",
      " 1 1 0 0 0 0 0 1 0 0 0]\n",
      "\n",
      "Predicted Output: [0 0 0 0 0 0 1 1 0 0 1 1 0 0 0 0 0 0 0 0 0 0 1 1 1 1 1 1 0 1 0 0 0 0 1 1 0\n",
      " 1 0 0 0 0 1 0 0 0 1 1 1 1 1 0 0 0 1 1 1 1 1 1 1 0 0 0 1 1 1 1 0 1 1 1 0 1\n",
      " 1 1 0 1 1 1 1 1 1 1 1 1 1 1 1 1 0 0 0 0 0 0 0 0 0 0 0 0 0 0 0 0 0 0 1 1 1\n",
      " 1 1 0 0 0 0 0 1 0 0 0]\n",
      "\n",
      "Confusion Matrix:\n",
      " [[62  1]\n",
      " [ 4 55]]\n",
      "\n",
      "Classification Report:\n",
      "               precision    recall  f1-score   support\n",
      "\n",
      "           0       0.94      0.98      0.96        63\n",
      "           1       0.98      0.93      0.96        59\n",
      "\n",
      "    accuracy                           0.96       122\n",
      "   macro avg       0.96      0.96      0.96       122\n",
      "weighted avg       0.96      0.96      0.96       122\n",
      "\n",
      "\n",
      "Test Input: [[1.000e+00 6.000e+00 2.012e+03 2.900e+01 5.700e+01 1.800e+01 0.000e+00\n",
      "  6.570e+01 3.400e+00 7.600e+00 1.300e+00 3.400e+00 5.000e-01]]\n",
      "Predicted Class Label: [0]\n"
     ]
    }
   ],
   "source": [
    "import pandas as pd\n",
    "import numpy as np\n",
    "from sklearn.naive_bayes import GaussianNB\n",
    "from sklearn.preprocessing import StandardScaler\n",
    "from sklearn.metrics import classification_report, confusion_matrix\n",
    "data = pd.read_excel('datasetforest.xlsx')\n",
    "x = data.iloc[:, :-1].values  \n",
    "y = data.iloc[:, -1].values   \n",
    "scaler = StandardScaler()\n",
    "x = scaler.fit_transform(x)  \n",
    "model = GaussianNB().fit(x, y)\n",
    "y_pred = model.predict(x)\n",
    "print(\"Actual Output:\", y)\n",
    "print(\"\\nPredicted Output:\", y_pred)\n",
    "cm = confusion_matrix(y, y_pred)\n",
    "print('\\nConfusion Matrix:\\n', cm)\n",
    "print(\"\\nClassification Report:\\n\", classification_report(y, y_pred))\n",
    "test_sample = np.array([1, 6, 2012, 29, 57, 18, 0.0, 65.7, 3.4, 7.6, 1.3, 3.4, 0.5]).reshape(1, -1)\n",
    "test_sample_scaled = scaler.transform(test_sample)\n",
    "test_output = model.predict(test_sample_scaled)\n",
    "print('\\nTest Input:', test_sample)\n",
    "print('Predicted Class Label:', test_output)\n"
   ]
  },
  {
   "cell_type": "code",
   "execution_count": 18,
   "id": "55148ad5",
   "metadata": {},
   "outputs": [],
   "source": []
  },
  {
   "cell_type": "code",
   "execution_count": null,
   "id": "ee0599a9-18fd-43d2-b622-2bc5a00c72e5",
   "metadata": {},
   "outputs": [],
   "source": []
  },
  {
   "cell_type": "code",
   "execution_count": null,
   "id": "a8d0b93c-7cf8-47df-92bb-75cff42787ef",
   "metadata": {},
   "outputs": [],
   "source": []
  }
 ],
 "metadata": {
  "kernelspec": {
   "display_name": "Python 3 (ipykernel)",
   "language": "python",
   "name": "python3"
  },
  "language_info": {
   "codemirror_mode": {
    "name": "ipython",
    "version": 3
   },
   "file_extension": ".py",
   "mimetype": "text/x-python",
   "name": "python",
   "nbconvert_exporter": "python",
   "pygments_lexer": "ipython3",
   "version": "3.11.5"
  }
 },
 "nbformat": 4,
 "nbformat_minor": 5
}
