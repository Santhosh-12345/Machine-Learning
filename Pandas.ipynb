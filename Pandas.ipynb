{
 "cells": [
  {
   "cell_type": "code",
   "execution_count": 10,
   "id": "3d2e5fa8-d6c0-4875-a61c-7eddf36a324c",
   "metadata": {},
   "outputs": [
    {
     "name": "stdout",
     "output_type": "stream",
     "text": [
      "   Student Name  Roll No  Marks Grade\n",
      "0          John      101     85     A\n",
      "1          Emma      102     78     B\n",
      "2          Liam      103     90     A\n",
      "3           Ava      104     92     A\n",
      "4          Noah      105     74     C\n",
      "5        Olivia      106     88     A\n",
      "6        Sophia      107     67     C\n",
      "7       Jackson      108     80     B\n",
      "8           Mia      109     93     A\n",
      "9      Isabella      110     81     B\n",
      "10        Lucas      111     76     C\n",
      "11    Charlotte      112     85     A\n",
      "12       Amelia      113     89     B\n",
      "13        James      114     72     C\n",
      "14       Harper      115     95     A\n"
     ]
    }
   ],
   "source": [
    "import pandas as pd\n",
    "df=pd.read_excel('student_data.xlsx')\n",
    "print(df)"
   ]
  },
  {
   "cell_type": "code",
   "execution_count": 3,
   "id": "d62e64ec-9e1e-4777-8de7-3ad6480fd5be",
   "metadata": {},
   "outputs": [
    {
     "name": "stdout",
     "output_type": "stream",
     "text": [
      "   Reg No      Name Dept\n",
      "0       1  Santhosh   CT\n",
      "1       2       Ram   IT\n",
      "2       3     Kumar   PT\n",
      "3       4     Ragul  ECE\n"
     ]
    }
   ],
   "source": [
    "df=pd.read_csv('sample.csv')\n",
    "print(df)"
   ]
  },
  {
   "cell_type": "code",
   "execution_count": 12,
   "id": "2dfc4742-34d3-4cab-b610-8255736dc53a",
   "metadata": {},
   "outputs": [
    {
     "name": "stdout",
     "output_type": "stream",
     "text": [
      "  Student Name  Roll No  Marks Grade\n",
      "0         John      101     85     A\n",
      "1         Emma      102     78     B\n",
      "2         Liam      103     90     A\n",
      "3          Ava      104     92     A\n",
      "4         Noah      105     74     C\n"
     ]
    }
   ],
   "source": [
    "print(df.head())"
   ]
  },
  {
   "cell_type": "code",
   "execution_count": 14,
   "id": "8bfeba64-d6b3-4af3-a0d2-fcf2053370a6",
   "metadata": {},
   "outputs": [
    {
     "name": "stdout",
     "output_type": "stream",
     "text": [
      "   Student Name  Roll No  Marks Grade\n",
      "10        Lucas      111     76     C\n",
      "11    Charlotte      112     85     A\n",
      "12       Amelia      113     89     B\n",
      "13        James      114     72     C\n",
      "14       Harper      115     95     A\n"
     ]
    }
   ],
   "source": [
    "print(df.tail())"
   ]
  },
  {
   "cell_type": "code",
   "execution_count": 16,
   "id": "608bc520-de03-41b4-8728-8fa87e2a806e",
   "metadata": {},
   "outputs": [
    {
     "name": "stdout",
     "output_type": "stream",
     "text": [
      "  Student Name  Roll No  Marks Grade\n",
      "0         John      101     85     A\n",
      "1         Emma      102     78     B\n",
      "2         Liam      103     90     A\n"
     ]
    }
   ],
   "source": [
    "print(df.head(3))"
   ]
  },
  {
   "cell_type": "code",
   "execution_count": 18,
   "id": "5da72c99-efa8-4688-b88d-7b9dd89a09b4",
   "metadata": {},
   "outputs": [
    {
     "name": "stdout",
     "output_type": "stream",
     "text": [
      "   Student Name  Roll No  Marks Grade\n",
      "12       Amelia      113     89     B\n",
      "13        James      114     72     C\n",
      "14       Harper      115     95     A\n"
     ]
    }
   ],
   "source": [
    "print(df.tail(3))"
   ]
  },
  {
   "cell_type": "code",
   "execution_count": 3,
   "id": "d2d5fd52-0099-430f-a1ca-080e5081c965",
   "metadata": {},
   "outputs": [
    {
     "name": "stdout",
     "output_type": "stream",
     "text": [
      "<class 'pandas.core.frame.DataFrame'>\n",
      "RangeIndex: 15 entries, 0 to 14\n",
      "Data columns (total 4 columns):\n",
      " #   Column        Non-Null Count  Dtype \n",
      "---  ------        --------------  ----- \n",
      " 0   Student Name  15 non-null     object\n",
      " 1   Roll No       15 non-null     int64 \n",
      " 2   Marks         15 non-null     int64 \n",
      " 3   Grade         15 non-null     object\n",
      "dtypes: int64(2), object(2)\n",
      "memory usage: 612.0+ bytes\n",
      "None\n"
     ]
    }
   ],
   "source": [
    "import pandas as pd\n",
    "df=pd.read_excel('student_data.xlsx')\n",
    "print(df.info())"
   ]
  },
  {
   "cell_type": "code",
   "execution_count": 20,
   "id": "01ee62eb-6598-4d43-9460-b88a383bc1f1",
   "metadata": {},
   "outputs": [
    {
     "name": "stdout",
     "output_type": "stream",
     "text": [
      "          Roll No     Marks\n",
      "count   15.000000  15.00000\n",
      "mean   108.000000  83.00000\n",
      "std      4.472136   8.40068\n",
      "min    101.000000  67.00000\n",
      "25%    104.500000  77.00000\n",
      "50%    108.000000  85.00000\n",
      "75%    111.500000  89.50000\n",
      "max    115.000000  95.00000\n"
     ]
    }
   ],
   "source": [
    "print(df.describe())"
   ]
  },
  {
   "cell_type": "code",
   "execution_count": 22,
   "id": "c83f1246-0543-4105-a5ec-8e32aa496927",
   "metadata": {},
   "outputs": [
    {
     "name": "stdout",
     "output_type": "stream",
     "text": [
      "       Student Name Grade\n",
      "count            15    15\n",
      "unique           15     3\n",
      "top            John     A\n",
      "freq              1     7\n"
     ]
    }
   ],
   "source": [
    "print(df.describe(include='object'))"
   ]
  },
  {
   "cell_type": "code",
   "execution_count": 24,
   "id": "a56de980-1502-4f4e-9558-8d59d7b472ba",
   "metadata": {},
   "outputs": [
    {
     "name": "stdout",
     "output_type": "stream",
     "text": [
      "count     15\n",
      "unique     3\n",
      "top        A\n",
      "freq       7\n",
      "Name: Grade, dtype: object\n"
     ]
    }
   ],
   "source": [
    "print(df['Grade'].describe())"
   ]
  },
  {
   "cell_type": "code",
   "execution_count": 26,
   "id": "51e9353e-84af-4661-858c-4ed0577e548b",
   "metadata": {},
   "outputs": [
    {
     "name": "stdout",
     "output_type": "stream",
     "text": [
      "count    15.00000\n",
      "mean     83.00000\n",
      "std       8.40068\n",
      "min      67.00000\n",
      "25%      77.00000\n",
      "50%      85.00000\n",
      "75%      89.50000\n",
      "max      95.00000\n",
      "Name: Marks, dtype: float64\n"
     ]
    }
   ],
   "source": [
    "print(df['Marks'].describe())\n"
   ]
  },
  {
   "cell_type": "code",
   "execution_count": 28,
   "id": "1e1c7b73-2ffe-4f7d-b375-1b0242c630a1",
   "metadata": {},
   "outputs": [
    {
     "name": "stdout",
     "output_type": "stream",
     "text": [
      "Student Name    15\n",
      "Roll No         15\n",
      "Marks           14\n",
      "Grade            3\n",
      "dtype: int64\n"
     ]
    }
   ],
   "source": [
    "print(df.nunique())"
   ]
  },
  {
   "cell_type": "code",
   "execution_count": 32,
   "id": "b9a57e47-0bea-4363-9a40-c9f4d15e521b",
   "metadata": {},
   "outputs": [
    {
     "name": "stdout",
     "output_type": "stream",
     "text": [
      "['Amelia', 'Ava', 'Charlotte', 'Emma', 'Harper', 'Isabella', 'Jackson', 'James', 'John', 'Liam', 'Lucas', 'Mia', 'Noah', 'Olivia', 'Sophia']\n"
     ]
    }
   ],
   "source": [
    "print(sorted(df['Student Name'].unique()))"
   ]
  },
  {
   "cell_type": "code",
   "execution_count": 44,
   "id": "f8a61bf0-4675-4a90-b934-c4a9b1342d70",
   "metadata": {},
   "outputs": [
    {
     "name": "stdout",
     "output_type": "stream",
     "text": [
      "       count       mean       std   min    25%   50%   75%   max\n",
      "Grade                                                           \n",
      "A        7.0  89.714286  3.903600  85.0  86.50  90.0  92.5  95.0\n",
      "B        4.0  82.000000  4.830459  78.0  79.50  80.5  83.0  89.0\n",
      "C        4.0  72.250000  3.862210  67.0  70.75  73.0  74.5  76.0\n"
     ]
    }
   ],
   "source": [
    "print(df.groupby('Grade')['Marks'].describe())"
   ]
  },
  {
   "cell_type": "code",
   "execution_count": 48,
   "id": "ce468470-d680-4c9b-9422-789e518f3fa1",
   "metadata": {},
   "outputs": [
    {
     "name": "stdout",
     "output_type": "stream",
     "text": [
      "Grade\n",
      "A    7\n",
      "B    4\n",
      "C    4\n",
      "dtype: int64\n"
     ]
    }
   ],
   "source": [
    "grouped = df.groupby('Grade')\n",
    "print(grouped.size())"
   ]
  },
  {
   "cell_type": "code",
   "execution_count": 50,
   "id": "d6569704-7848-4c83-a301-011f30f555d7",
   "metadata": {},
   "outputs": [
    {
     "name": "stdout",
     "output_type": "stream",
     "text": [
      "Grade\n",
      "A    7\n",
      "B    4\n",
      "C    4\n",
      "dtype: int64\n"
     ]
    }
   ],
   "source": [
    "print(grouped.size())"
   ]
  },
  {
   "cell_type": "code",
   "execution_count": 40,
   "id": "16fafd78-b1ef-42b5-8e07-df7414ea206f",
   "metadata": {},
   "outputs": [
    {
     "name": "stdout",
     "output_type": "stream",
     "text": [
      "   Student Name  Roll No  Marks Grade\n",
      "0          John      101     85     A\n",
      "2          Liam      103     90     A\n",
      "3           Ava      104     92     A\n",
      "5        Olivia      106     88     A\n",
      "8           Mia      109     93     A\n",
      "11    Charlotte      112     85     A\n",
      "14       Harper      115     95     A\n"
     ]
    }
   ],
   "source": [
    "print(grouped.get_group('A'))"
   ]
  },
  {
   "cell_type": "code",
   "execution_count": 42,
   "id": "84c32068-8c8e-415c-bee2-734f0a6e4fc4",
   "metadata": {},
   "outputs": [
    {
     "name": "stdout",
     "output_type": "stream",
     "text": [
      "       count  max  min\n",
      "Grade                 \n",
      "A          7   95   85\n",
      "B          4   89   78\n",
      "C          4   76   67\n"
     ]
    }
   ],
   "source": [
    "print(grouped['Marks'].agg(['count', 'max', 'min']))"
   ]
  },
  {
   "cell_type": "code",
   "execution_count": null,
   "id": "6298cb1a-b846-4d3d-a88e-6bf96b7206b0",
   "metadata": {},
   "outputs": [],
   "source": []
  }
 ],
 "metadata": {
  "kernelspec": {
   "display_name": "Python [conda env:base] *",
   "language": "python",
   "name": "conda-base-py"
  },
  "language_info": {
   "codemirror_mode": {
    "name": "ipython",
    "version": 3
   },
   "file_extension": ".py",
   "mimetype": "text/x-python",
   "name": "python",
   "nbconvert_exporter": "python",
   "pygments_lexer": "ipython3",
   "version": "3.12.7"
  }
 },
 "nbformat": 4,
 "nbformat_minor": 5
}
